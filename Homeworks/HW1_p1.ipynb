{
 "cells": [
  {
   "cell_type": "code",
   "execution_count": 9,
   "metadata": {},
   "outputs": [],
   "source": [
    "import numpy as np\n",
    "import seaborn as sns\n",
    "import matplotlib.pyplot as plt"
   ]
  },
  {
   "cell_type": "code",
   "execution_count": 14,
   "metadata": {},
   "outputs": [],
   "source": [
    "#x=np.array([[-1, -1],[ 1, 0],[ -1, 10]])\n",
    "x=np.array([[ -1, 0],[ 0, 1]])\n",
    "#y=np.array([ 1, -1, 1])\n",
    "y=np.array([ 1,1])\n",
    "theta = np.zeros(2)\n",
    "#theta_0=  0"
   ]
  },
  {
   "cell_type": "code",
   "execution_count": 13,
   "metadata": {},
   "outputs": [
    {
     "data": {
      "text/plain": [
       "1.0"
      ]
     },
     "execution_count": 13,
     "metadata": {},
     "output_type": "execute_result"
    }
   ],
   "source": [
    "np.math.cos(2*np.pi)"
   ]
  },
  {
   "cell_type": "code",
   "execution_count": 16,
   "metadata": {},
   "outputs": [
    {
     "name": "stdout",
     "output_type": "stream",
     "text": [
      "0.0\n",
      "[-1.  0.]\n",
      "0.0\n",
      "[-1.  1.]\n",
      "1.0\n",
      "1.0\n",
      "1.0\n",
      "1.0\n",
      "1.0\n",
      "1.0\n",
      "1.0\n",
      "1.0\n",
      "1.0\n",
      "1.0\n",
      "1.0\n",
      "1.0\n",
      "1.0\n",
      "1.0\n",
      "1.0\n",
      "1.0\n",
      "1.0\n",
      "1.0\n"
     ]
    },
    {
     "data": {
      "text/plain": [
       "[[-1.0, 0.0], [-1.0, 1.0]]"
      ]
     },
     "execution_count": 16,
     "metadata": {},
     "output_type": "execute_result"
    }
   ],
   "source": [
    "l=[]\n",
    "\n",
    "\n",
    "for t in range(10):\n",
    "    for i,j in enumerate(x):\n",
    "        print(y[i]*(np.dot(theta, j)))\n",
    "        if y[i]*(np.dot(theta,j))<=0:\n",
    "            \n",
    "            theta+= y[i]*j\n",
    "            #theta_0+=y[i]\n",
    "            l.append(theta.tolist())\n",
    "            print(theta)\n",
    "\n",
    "l"
   ]
  },
  {
   "cell_type": "code",
   "execution_count": 144,
   "metadata": {},
   "outputs": [
    {
     "data": {
      "text/plain": [
       "array([-4,  2])"
      ]
     },
     "execution_count": 144,
     "metadata": {},
     "output_type": "execute_result"
    }
   ],
   "source": [
    "1*np.array([-4,2])-2*np.array([-1,-1]) -1*np.array([2,2])"
   ]
  },
  {
   "cell_type": "code",
   "execution_count": 3,
   "metadata": {},
   "outputs": [
    {
     "data": {
      "text/plain": [
       "<matplotlib.legend.Legend at 0x7fc4f2f82370>"
      ]
     },
     "execution_count": 3,
     "metadata": {},
     "output_type": "execute_result"
    },
    {
     "data": {
      "image/png": "[encoded data removed]",
      "text/plain": [
       "<Figure size 432x288 with 1 Axes>"
      ]
     },
     "metadata": {
      "needs_background": "light"
     },
     "output_type": "display_data"
    }
   ],
   "source": [
    "sns.scatterplot(x=[-1,1,1,2], y=[1,-1,1,2], hue=[1,1,0,0])\n",
    "plt.grid(which='both')\n",
    "plt.xscale()\n",
    "plt.legend('')"
   ]
  },
  {
   "cell_type": "code",
   "execution_count": 8,
   "metadata": {},
   "outputs": [
    {
     "name": "stdout",
     "output_type": "stream",
     "text": [
      "1.5811388300841898     2.1213203435596424\n",
      "the radius is  1.851229586821916\n",
      "The coordinate is  [-0.5 -0.5]\n"
     ]
    }
   ],
   "source": [
    "c = np.zeros(2)\n",
    "r=2\n",
    "p =np.array( [-1,1])\n",
    "n = np.array([1,1])\n",
    "d=0\n",
    "for i in range(10):\n",
    "    if np.linalg.norm(p-c)< np.linalg.norm(n-c):\n",
    "        print(np.linalg.norm(p-c),'   ',np.linalg.norm(n-c))\n",
    "        print('the radius is ', (np.linalg.norm(p-c)+ np.linalg.norm(n-c))/2)\n",
    "        print('The coordinate is ',c)\n",
    "        break\n",
    "    else: c+= -0.5\n",
    "    "
   ]
  },
  {
   "cell_type": "code",
   "execution_count": null,
   "metadata": {},
   "outputs": [],
   "source": []
  }
 ],
 "metadata": {
  "kernelspec": {
   "display_name": "Python 3",
   "language": "python",
   "name": "python3"
  },
  "language_info": {
   "codemirror_mode": {
    "name": "ipython",
    "version": 3
   },
   "file_extension": ".py",
   "mimetype": "text/x-python",
   "name": "python",
   "nbconvert_exporter": "python",
   "pygments_lexer": "ipython3",
   "version": "3.8.3"
  }
 },
 "nbformat": 4,
 "nbformat_minor": 4
}
